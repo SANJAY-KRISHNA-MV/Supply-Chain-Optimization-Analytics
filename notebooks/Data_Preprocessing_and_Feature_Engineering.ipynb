{
 "cells": [
  {
   "cell_type": "markdown",
   "id": "8c568320",
   "metadata": {},
   "source": []
  },
  {
   "cell_type": "code",
   "execution_count": 1,
   "id": "2b5dba98",
   "metadata": {},
   "outputs": [],
   "source": [
    "# Import neccessary libraries\n",
    "import pandas as pd\n",
    "import numpy as np"
   ]
  },
  {
   "cell_type": "code",
   "execution_count": 2,
   "id": "941f58a7",
   "metadata": {},
   "outputs": [
    {
     "name": "stdout",
     "output_type": "stream",
     "text": [
      "The dataset has been successfully loaded.\n"
     ]
    }
   ],
   "source": [
    "file_path = r\"../data/raw/smart_logistics_dataset.csv\"\n",
    "try:\n",
    "    df = pd.read_csv(file_path)\n",
    "    print(\"The dataset has been successfully loaded.\")\n",
    "except FileNotFoundError:\n",
    "    print(f\"File not found at {file_path}\")"
   ]
  },
  {
   "cell_type": "code",
   "execution_count": 3,
   "id": "8e162be6",
   "metadata": {},
   "outputs": [],
   "source": [
    "# convert the Timestamp to datetime.\n",
    "df['Timestamp'] = pd.to_datetime(df['Timestamp'])"
   ]
  },
  {
   "cell_type": "code",
   "execution_count": 4,
   "id": "ecef3b07",
   "metadata": {},
   "outputs": [
    {
     "name": "stdout",
     "output_type": "stream",
     "text": [
      "<class 'pandas.core.frame.DataFrame'>\n",
      "RangeIndex: 1000 entries, 0 to 999\n",
      "Data columns (total 16 columns):\n",
      " #   Column                   Non-Null Count  Dtype         \n",
      "---  ------                   --------------  -----         \n",
      " 0   Timestamp                1000 non-null   datetime64[ns]\n",
      " 1   Asset_ID                 1000 non-null   object        \n",
      " 2   Latitude                 1000 non-null   float64       \n",
      " 3   Longitude                1000 non-null   float64       \n",
      " 4   Inventory_Level          1000 non-null   int64         \n",
      " 5   Shipment_Status          1000 non-null   object        \n",
      " 6   Temperature              1000 non-null   float64       \n",
      " 7   Humidity                 1000 non-null   float64       \n",
      " 8   Traffic_Status           1000 non-null   object        \n",
      " 9   Waiting_Time             1000 non-null   int64         \n",
      " 10  User_Transaction_Amount  1000 non-null   int64         \n",
      " 11  User_Purchase_Frequency  1000 non-null   int64         \n",
      " 12  Logistics_Delay_Reason   737 non-null    object        \n",
      " 13  Asset_Utilization        1000 non-null   float64       \n",
      " 14  Demand_Forecast          1000 non-null   int64         \n",
      " 15  Logistics_Delay          1000 non-null   int64         \n",
      "dtypes: datetime64[ns](1), float64(5), int64(6), object(4)\n",
      "memory usage: 125.1+ KB\n"
     ]
    }
   ],
   "source": [
    "df.info()"
   ]
  },
  {
   "cell_type": "code",
   "execution_count": 6,
   "id": "dc23cc11",
   "metadata": {},
   "outputs": [],
   "source": [
    "df['Logistics_Delay_Reason'] = df['Logistics_Delay_Reason'].fillna('Unknown')"
   ]
  },
  {
   "cell_type": "code",
   "execution_count": 8,
   "id": "5aa7d451",
   "metadata": {},
   "outputs": [
    {
     "data": {
      "text/plain": [
       "np.int64(0)"
      ]
     },
     "execution_count": 8,
     "metadata": {},
     "output_type": "execute_result"
    }
   ],
   "source": [
    "df.isnull().sum().sum()"
   ]
  },
  {
   "cell_type": "code",
   "execution_count": 9,
   "id": "bf0aafc3",
   "metadata": {},
   "outputs": [
    {
     "data": {
      "application/vnd.microsoft.datawrangler.viewer.v0+json": {
       "columns": [
        {
         "name": "Logistics_Delay_Reason",
         "rawType": "object",
         "type": "string"
        },
        {
         "name": "count",
         "rawType": "int64",
         "type": "integer"
        }
       ],
       "ref": "992081ac-cd35-4037-8e4a-64d518cacb5a",
       "rows": [
        [
         "Weather",
         "267"
        ],
        [
         "Unknown",
         "263"
        ],
        [
         "Traffic",
         "236"
        ],
        [
         "Mechanical Failure",
         "234"
        ]
       ],
       "shape": {
        "columns": 1,
        "rows": 4
       }
      },
      "text/plain": [
       "Logistics_Delay_Reason\n",
       "Weather               267\n",
       "Unknown               263\n",
       "Traffic               236\n",
       "Mechanical Failure    234\n",
       "Name: count, dtype: int64"
      ]
     },
     "execution_count": 9,
     "metadata": {},
     "output_type": "execute_result"
    }
   ],
   "source": [
    "df['Logistics_Delay_Reason'].value_counts()"
   ]
  },
  {
   "cell_type": "code",
   "execution_count": null,
   "id": "42c9adbd",
   "metadata": {},
   "outputs": [],
   "source": []
  }
 ],
 "metadata": {
  "kernelspec": {
   "display_name": ".venv",
   "language": "python",
   "name": "python3"
  },
  "language_info": {
   "codemirror_mode": {
    "name": "ipython",
    "version": 3
   },
   "file_extension": ".py",
   "mimetype": "text/x-python",
   "name": "python",
   "nbconvert_exporter": "python",
   "pygments_lexer": "ipython3",
   "version": "3.12.5"
  }
 },
 "nbformat": 4,
 "nbformat_minor": 5
}

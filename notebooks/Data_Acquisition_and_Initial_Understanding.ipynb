{
 "cells": [
  {
   "cell_type": "markdown",
   "id": "5e985cab",
   "metadata": {},
   "source": [
    "# Load the Dataset"
   ]
  },
  {
   "cell_type": "code",
   "execution_count": 1,
   "id": "47416005",
   "metadata": {},
   "outputs": [],
   "source": [
    "# Import necessary libraries.\n",
    "import pandas as pd"
   ]
  },
  {
   "cell_type": "code",
   "execution_count": 2,
   "id": "77b3730e",
   "metadata": {},
   "outputs": [
    {
     "name": "stdout",
     "output_type": "stream",
     "text": [
      "The dataset has been successfully loaded.\n"
     ]
    }
   ],
   "source": [
    "# load the data from the '../data/raw' folder.\n",
    "file_path = r\"../data/raw/smart_logistics_dataset.csv\"\n",
    "try:\n",
    "    df = pd.read_csv(file_path)\n",
    "    print(\"The dataset has been successfully loaded.\")\n",
    "except FileNotFoundError:\n",
    "    print(f\"File not found at {file_path}\")"
   ]
  },
  {
   "cell_type": "markdown",
   "id": "bb9e7356",
   "metadata": {},
   "source": [
    "The descriptions for the columns are straight from the kaggle dataset description.\n",
    "Key Features:  \n",
    "- Timestamp: Date and time when the data was recorded, representing logistics activity.  \n",
    "- Asset_ID: Unique identifier for the logistical assets (e.g., trucks).  \n",
    "- Latitude & Longitude: Geographical coordinates of the asset for tracking and monitoring.  \n",
    "- Inventory_Level: Current level of inventory associated with the asset or shipment.  \n",
    "- Shipment_Status: Status of the shipment (e.g., In Transit, Delivered, Delayed).  \n",
    "- Temperature: Temperature recorded at the time of the shipment or transportation.  \n",
    "- Humidity: Humidity level at the time of recording.  \n",
    "- Traffic_Status: Current traffic condition (e.g., Clear, Heavy, Detour).  \n",
    "- Waiting_Time: Time spent waiting during the logistics process (in minutes).  \n",
    "- User_Transaction_Amount: Monetary amount associated with user transactions.  \n",
    "- User_Purchase_Frequency: Frequency of purchases made by the user.  \n",
    "- Logistics_Delay_Reason: Reason for any delays in the logistics process (e.g., Weather, Mechanical Failure).  \n",
    "- Asset_Utilization: Percentage of asset utilization, indicating how effectively assets are being used.  \n",
    "- Demand_Forecast: Predicted demand for the logistics services in the coming period.  \n",
    "- Logistics_Delay (Target): Binary variable indicating whether a logistics delay occurred (1 for delay, 0 for no delay).  "
   ]
  },
  {
   "cell_type": "markdown",
   "id": "d21fbd39",
   "metadata": {},
   "source": [
    "# Initial Understanding of the Data"
   ]
  },
  {
   "cell_type": "code",
   "execution_count": 3,
   "id": "046c7ade",
   "metadata": {},
   "outputs": [
    {
     "data": {
      "application/vnd.microsoft.datawrangler.viewer.v0+json": {
       "columns": [
        {
         "name": "index",
         "rawType": "int64",
         "type": "integer"
        },
        {
         "name": "Timestamp",
         "rawType": "object",
         "type": "string"
        },
        {
         "name": "Asset_ID",
         "rawType": "object",
         "type": "string"
        },
        {
         "name": "Latitude",
         "rawType": "float64",
         "type": "float"
        },
        {
         "name": "Longitude",
         "rawType": "float64",
         "type": "float"
        },
        {
         "name": "Inventory_Level",
         "rawType": "int64",
         "type": "integer"
        },
        {
         "name": "Shipment_Status",
         "rawType": "object",
         "type": "string"
        },
        {
         "name": "Temperature",
         "rawType": "float64",
         "type": "float"
        },
        {
         "name": "Humidity",
         "rawType": "float64",
         "type": "float"
        },
        {
         "name": "Traffic_Status",
         "rawType": "object",
         "type": "string"
        },
        {
         "name": "Waiting_Time",
         "rawType": "int64",
         "type": "integer"
        },
        {
         "name": "User_Transaction_Amount",
         "rawType": "int64",
         "type": "integer"
        },
        {
         "name": "User_Purchase_Frequency",
         "rawType": "int64",
         "type": "integer"
        },
        {
         "name": "Logistics_Delay_Reason",
         "rawType": "object",
         "type": "unknown"
        },
        {
         "name": "Asset_Utilization",
         "rawType": "float64",
         "type": "float"
        },
        {
         "name": "Demand_Forecast",
         "rawType": "int64",
         "type": "integer"
        },
        {
         "name": "Logistics_Delay",
         "rawType": "int64",
         "type": "integer"
        }
       ],
       "ref": "360144b1-741c-4a78-a695-c01fb7fbd48b",
       "rows": [
        [
         "0",
         "2024-03-20 00:11:14",
         "Truck_7",
         "-65.7383",
         "11.2497",
         "390",
         "Delayed",
         "27.0",
         "67.8",
         "Detour",
         "38",
         "320",
         "4",
         null,
         "60.1",
         "285",
         "1"
        ],
        [
         "1",
         "2024-10-30 07:53:51",
         "Truck_6",
         "22.2748",
         "-131.7086",
         "491",
         "In Transit",
         "22.5",
         "54.3",
         "Heavy",
         "16",
         "439",
         "7",
         "Weather",
         "80.9",
         "174",
         "1"
        ],
        [
         "2",
         "2024-07-29 18:42:48",
         "Truck_10",
         "54.9232",
         "79.5455",
         "190",
         "In Transit",
         "25.2",
         "62.2",
         "Detour",
         "34",
         "355",
         "3",
         null,
         "99.2",
         "260",
         "0"
        ],
        [
         "3",
         "2024-10-28 00:50:54",
         "Truck_9",
         "42.39",
         "-1.4788",
         "330",
         "Delivered",
         "25.4",
         "52.3",
         "Heavy",
         "37",
         "227",
         "5",
         "Traffic",
         "97.4",
         "160",
         "1"
        ],
        [
         "4",
         "2024-09-27 15:52:58",
         "Truck_7",
         "-65.8477",
         "47.9468",
         "480",
         "Delayed",
         "20.5",
         "57.2",
         "Clear",
         "56",
         "197",
         "6",
         null,
         "71.6",
         "270",
         "1"
        ]
       ],
       "shape": {
        "columns": 16,
        "rows": 5
       }
      },
      "text/html": [
       "<div>\n",
       "<style scoped>\n",
       "    .dataframe tbody tr th:only-of-type {\n",
       "        vertical-align: middle;\n",
       "    }\n",
       "\n",
       "    .dataframe tbody tr th {\n",
       "        vertical-align: top;\n",
       "    }\n",
       "\n",
       "    .dataframe thead th {\n",
       "        text-align: right;\n",
       "    }\n",
       "</style>\n",
       "<table border=\"1\" class=\"dataframe\">\n",
       "  <thead>\n",
       "    <tr style=\"text-align: right;\">\n",
       "      <th></th>\n",
       "      <th>Timestamp</th>\n",
       "      <th>Asset_ID</th>\n",
       "      <th>Latitude</th>\n",
       "      <th>Longitude</th>\n",
       "      <th>Inventory_Level</th>\n",
       "      <th>Shipment_Status</th>\n",
       "      <th>Temperature</th>\n",
       "      <th>Humidity</th>\n",
       "      <th>Traffic_Status</th>\n",
       "      <th>Waiting_Time</th>\n",
       "      <th>User_Transaction_Amount</th>\n",
       "      <th>User_Purchase_Frequency</th>\n",
       "      <th>Logistics_Delay_Reason</th>\n",
       "      <th>Asset_Utilization</th>\n",
       "      <th>Demand_Forecast</th>\n",
       "      <th>Logistics_Delay</th>\n",
       "    </tr>\n",
       "  </thead>\n",
       "  <tbody>\n",
       "    <tr>\n",
       "      <th>0</th>\n",
       "      <td>2024-03-20 00:11:14</td>\n",
       "      <td>Truck_7</td>\n",
       "      <td>-65.7383</td>\n",
       "      <td>11.2497</td>\n",
       "      <td>390</td>\n",
       "      <td>Delayed</td>\n",
       "      <td>27.0</td>\n",
       "      <td>67.8</td>\n",
       "      <td>Detour</td>\n",
       "      <td>38</td>\n",
       "      <td>320</td>\n",
       "      <td>4</td>\n",
       "      <td>NaN</td>\n",
       "      <td>60.1</td>\n",
       "      <td>285</td>\n",
       "      <td>1</td>\n",
       "    </tr>\n",
       "    <tr>\n",
       "      <th>1</th>\n",
       "      <td>2024-10-30 07:53:51</td>\n",
       "      <td>Truck_6</td>\n",
       "      <td>22.2748</td>\n",
       "      <td>-131.7086</td>\n",
       "      <td>491</td>\n",
       "      <td>In Transit</td>\n",
       "      <td>22.5</td>\n",
       "      <td>54.3</td>\n",
       "      <td>Heavy</td>\n",
       "      <td>16</td>\n",
       "      <td>439</td>\n",
       "      <td>7</td>\n",
       "      <td>Weather</td>\n",
       "      <td>80.9</td>\n",
       "      <td>174</td>\n",
       "      <td>1</td>\n",
       "    </tr>\n",
       "    <tr>\n",
       "      <th>2</th>\n",
       "      <td>2024-07-29 18:42:48</td>\n",
       "      <td>Truck_10</td>\n",
       "      <td>54.9232</td>\n",
       "      <td>79.5455</td>\n",
       "      <td>190</td>\n",
       "      <td>In Transit</td>\n",
       "      <td>25.2</td>\n",
       "      <td>62.2</td>\n",
       "      <td>Detour</td>\n",
       "      <td>34</td>\n",
       "      <td>355</td>\n",
       "      <td>3</td>\n",
       "      <td>NaN</td>\n",
       "      <td>99.2</td>\n",
       "      <td>260</td>\n",
       "      <td>0</td>\n",
       "    </tr>\n",
       "    <tr>\n",
       "      <th>3</th>\n",
       "      <td>2024-10-28 00:50:54</td>\n",
       "      <td>Truck_9</td>\n",
       "      <td>42.3900</td>\n",
       "      <td>-1.4788</td>\n",
       "      <td>330</td>\n",
       "      <td>Delivered</td>\n",
       "      <td>25.4</td>\n",
       "      <td>52.3</td>\n",
       "      <td>Heavy</td>\n",
       "      <td>37</td>\n",
       "      <td>227</td>\n",
       "      <td>5</td>\n",
       "      <td>Traffic</td>\n",
       "      <td>97.4</td>\n",
       "      <td>160</td>\n",
       "      <td>1</td>\n",
       "    </tr>\n",
       "    <tr>\n",
       "      <th>4</th>\n",
       "      <td>2024-09-27 15:52:58</td>\n",
       "      <td>Truck_7</td>\n",
       "      <td>-65.8477</td>\n",
       "      <td>47.9468</td>\n",
       "      <td>480</td>\n",
       "      <td>Delayed</td>\n",
       "      <td>20.5</td>\n",
       "      <td>57.2</td>\n",
       "      <td>Clear</td>\n",
       "      <td>56</td>\n",
       "      <td>197</td>\n",
       "      <td>6</td>\n",
       "      <td>NaN</td>\n",
       "      <td>71.6</td>\n",
       "      <td>270</td>\n",
       "      <td>1</td>\n",
       "    </tr>\n",
       "  </tbody>\n",
       "</table>\n",
       "</div>"
      ],
      "text/plain": [
       "             Timestamp  Asset_ID  Latitude  Longitude  Inventory_Level  \\\n",
       "0  2024-03-20 00:11:14   Truck_7  -65.7383    11.2497              390   \n",
       "1  2024-10-30 07:53:51   Truck_6   22.2748  -131.7086              491   \n",
       "2  2024-07-29 18:42:48  Truck_10   54.9232    79.5455              190   \n",
       "3  2024-10-28 00:50:54   Truck_9   42.3900    -1.4788              330   \n",
       "4  2024-09-27 15:52:58   Truck_7  -65.8477    47.9468              480   \n",
       "\n",
       "  Shipment_Status  Temperature  Humidity Traffic_Status  Waiting_Time  \\\n",
       "0         Delayed         27.0      67.8         Detour            38   \n",
       "1      In Transit         22.5      54.3          Heavy            16   \n",
       "2      In Transit         25.2      62.2         Detour            34   \n",
       "3       Delivered         25.4      52.3          Heavy            37   \n",
       "4         Delayed         20.5      57.2          Clear            56   \n",
       "\n",
       "   User_Transaction_Amount  User_Purchase_Frequency Logistics_Delay_Reason  \\\n",
       "0                      320                        4                    NaN   \n",
       "1                      439                        7                Weather   \n",
       "2                      355                        3                    NaN   \n",
       "3                      227                        5                Traffic   \n",
       "4                      197                        6                    NaN   \n",
       "\n",
       "   Asset_Utilization  Demand_Forecast  Logistics_Delay  \n",
       "0               60.1              285                1  \n",
       "1               80.9              174                1  \n",
       "2               99.2              260                0  \n",
       "3               97.4              160                1  \n",
       "4               71.6              270                1  "
      ]
     },
     "execution_count": 3,
     "metadata": {},
     "output_type": "execute_result"
    }
   ],
   "source": [
    "df.head()"
   ]
  },
  {
   "cell_type": "code",
   "execution_count": 4,
   "id": "a483068a",
   "metadata": {},
   "outputs": [
    {
     "data": {
      "application/vnd.microsoft.datawrangler.viewer.v0+json": {
       "columns": [
        {
         "name": "index",
         "rawType": "int64",
         "type": "integer"
        },
        {
         "name": "Timestamp",
         "rawType": "object",
         "type": "string"
        },
        {
         "name": "Asset_ID",
         "rawType": "object",
         "type": "string"
        },
        {
         "name": "Latitude",
         "rawType": "float64",
         "type": "float"
        },
        {
         "name": "Longitude",
         "rawType": "float64",
         "type": "float"
        },
        {
         "name": "Inventory_Level",
         "rawType": "int64",
         "type": "integer"
        },
        {
         "name": "Shipment_Status",
         "rawType": "object",
         "type": "string"
        },
        {
         "name": "Temperature",
         "rawType": "float64",
         "type": "float"
        },
        {
         "name": "Humidity",
         "rawType": "float64",
         "type": "float"
        },
        {
         "name": "Traffic_Status",
         "rawType": "object",
         "type": "string"
        },
        {
         "name": "Waiting_Time",
         "rawType": "int64",
         "type": "integer"
        },
        {
         "name": "User_Transaction_Amount",
         "rawType": "int64",
         "type": "integer"
        },
        {
         "name": "User_Purchase_Frequency",
         "rawType": "int64",
         "type": "integer"
        },
        {
         "name": "Logistics_Delay_Reason",
         "rawType": "object",
         "type": "unknown"
        },
        {
         "name": "Asset_Utilization",
         "rawType": "float64",
         "type": "float"
        },
        {
         "name": "Demand_Forecast",
         "rawType": "int64",
         "type": "integer"
        },
        {
         "name": "Logistics_Delay",
         "rawType": "int64",
         "type": "integer"
        }
       ],
       "ref": "515fc1fa-217d-4183-98b5-323cc7d5b2e1",
       "rows": [
        [
         "995",
         "2024-07-22 16:30:00",
         "Truck_6",
         "89.8701",
         "73.6867",
         "264",
         "Delivered",
         "26.9",
         "70.0",
         "Heavy",
         "32",
         "188",
         "1",
         "Weather",
         "79.2",
         "213",
         "1"
        ],
        [
         "996",
         "2024-04-30 04:58:58",
         "Truck_5",
         "-10.4792",
         "-177.1239",
         "479",
         "Delivered",
         "23.7",
         "77.9",
         "Detour",
         "56",
         "276",
         "7",
         "Weather",
         "83.7",
         "272",
         "0"
        ],
        [
         "997",
         "2024-10-27 22:09:13",
         "Truck_2",
         "-71.0609",
         "75.3714",
         "347",
         "In Transit",
         "21.0",
         "63.1",
         "Detour",
         "35",
         "382",
         "5",
         null,
         "74.8",
         "275",
         "0"
        ],
        [
         "998",
         "2024-04-18 23:06:56",
         "Truck_2",
         "-76.791",
         "18.3631",
         "276",
         "Delivered",
         "18.0",
         "64.3",
         "Heavy",
         "10",
         "361",
         "5",
         null,
         "88.6",
         "242",
         "1"
        ],
        [
         "999",
         "2024-09-18 19:39:24",
         "Truck_8",
         "59.8356",
         "-114.4198",
         "157",
         "Delayed",
         "18.7",
         "73.6",
         "Clear",
         "55",
         "323",
         "9",
         "Mechanical Failure",
         "81.3",
         "141",
         "1"
        ]
       ],
       "shape": {
        "columns": 16,
        "rows": 5
       }
      },
      "text/html": [
       "<div>\n",
       "<style scoped>\n",
       "    .dataframe tbody tr th:only-of-type {\n",
       "        vertical-align: middle;\n",
       "    }\n",
       "\n",
       "    .dataframe tbody tr th {\n",
       "        vertical-align: top;\n",
       "    }\n",
       "\n",
       "    .dataframe thead th {\n",
       "        text-align: right;\n",
       "    }\n",
       "</style>\n",
       "<table border=\"1\" class=\"dataframe\">\n",
       "  <thead>\n",
       "    <tr style=\"text-align: right;\">\n",
       "      <th></th>\n",
       "      <th>Timestamp</th>\n",
       "      <th>Asset_ID</th>\n",
       "      <th>Latitude</th>\n",
       "      <th>Longitude</th>\n",
       "      <th>Inventory_Level</th>\n",
       "      <th>Shipment_Status</th>\n",
       "      <th>Temperature</th>\n",
       "      <th>Humidity</th>\n",
       "      <th>Traffic_Status</th>\n",
       "      <th>Waiting_Time</th>\n",
       "      <th>User_Transaction_Amount</th>\n",
       "      <th>User_Purchase_Frequency</th>\n",
       "      <th>Logistics_Delay_Reason</th>\n",
       "      <th>Asset_Utilization</th>\n",
       "      <th>Demand_Forecast</th>\n",
       "      <th>Logistics_Delay</th>\n",
       "    </tr>\n",
       "  </thead>\n",
       "  <tbody>\n",
       "    <tr>\n",
       "      <th>995</th>\n",
       "      <td>2024-07-22 16:30:00</td>\n",
       "      <td>Truck_6</td>\n",
       "      <td>89.8701</td>\n",
       "      <td>73.6867</td>\n",
       "      <td>264</td>\n",
       "      <td>Delivered</td>\n",
       "      <td>26.9</td>\n",
       "      <td>70.0</td>\n",
       "      <td>Heavy</td>\n",
       "      <td>32</td>\n",
       "      <td>188</td>\n",
       "      <td>1</td>\n",
       "      <td>Weather</td>\n",
       "      <td>79.2</td>\n",
       "      <td>213</td>\n",
       "      <td>1</td>\n",
       "    </tr>\n",
       "    <tr>\n",
       "      <th>996</th>\n",
       "      <td>2024-04-30 04:58:58</td>\n",
       "      <td>Truck_5</td>\n",
       "      <td>-10.4792</td>\n",
       "      <td>-177.1239</td>\n",
       "      <td>479</td>\n",
       "      <td>Delivered</td>\n",
       "      <td>23.7</td>\n",
       "      <td>77.9</td>\n",
       "      <td>Detour</td>\n",
       "      <td>56</td>\n",
       "      <td>276</td>\n",
       "      <td>7</td>\n",
       "      <td>Weather</td>\n",
       "      <td>83.7</td>\n",
       "      <td>272</td>\n",
       "      <td>0</td>\n",
       "    </tr>\n",
       "    <tr>\n",
       "      <th>997</th>\n",
       "      <td>2024-10-27 22:09:13</td>\n",
       "      <td>Truck_2</td>\n",
       "      <td>-71.0609</td>\n",
       "      <td>75.3714</td>\n",
       "      <td>347</td>\n",
       "      <td>In Transit</td>\n",
       "      <td>21.0</td>\n",
       "      <td>63.1</td>\n",
       "      <td>Detour</td>\n",
       "      <td>35</td>\n",
       "      <td>382</td>\n",
       "      <td>5</td>\n",
       "      <td>NaN</td>\n",
       "      <td>74.8</td>\n",
       "      <td>275</td>\n",
       "      <td>0</td>\n",
       "    </tr>\n",
       "    <tr>\n",
       "      <th>998</th>\n",
       "      <td>2024-04-18 23:06:56</td>\n",
       "      <td>Truck_2</td>\n",
       "      <td>-76.7910</td>\n",
       "      <td>18.3631</td>\n",
       "      <td>276</td>\n",
       "      <td>Delivered</td>\n",
       "      <td>18.0</td>\n",
       "      <td>64.3</td>\n",
       "      <td>Heavy</td>\n",
       "      <td>10</td>\n",
       "      <td>361</td>\n",
       "      <td>5</td>\n",
       "      <td>NaN</td>\n",
       "      <td>88.6</td>\n",
       "      <td>242</td>\n",
       "      <td>1</td>\n",
       "    </tr>\n",
       "    <tr>\n",
       "      <th>999</th>\n",
       "      <td>2024-09-18 19:39:24</td>\n",
       "      <td>Truck_8</td>\n",
       "      <td>59.8356</td>\n",
       "      <td>-114.4198</td>\n",
       "      <td>157</td>\n",
       "      <td>Delayed</td>\n",
       "      <td>18.7</td>\n",
       "      <td>73.6</td>\n",
       "      <td>Clear</td>\n",
       "      <td>55</td>\n",
       "      <td>323</td>\n",
       "      <td>9</td>\n",
       "      <td>Mechanical Failure</td>\n",
       "      <td>81.3</td>\n",
       "      <td>141</td>\n",
       "      <td>1</td>\n",
       "    </tr>\n",
       "  </tbody>\n",
       "</table>\n",
       "</div>"
      ],
      "text/plain": [
       "               Timestamp Asset_ID  Latitude  Longitude  Inventory_Level  \\\n",
       "995  2024-07-22 16:30:00  Truck_6   89.8701    73.6867              264   \n",
       "996  2024-04-30 04:58:58  Truck_5  -10.4792  -177.1239              479   \n",
       "997  2024-10-27 22:09:13  Truck_2  -71.0609    75.3714              347   \n",
       "998  2024-04-18 23:06:56  Truck_2  -76.7910    18.3631              276   \n",
       "999  2024-09-18 19:39:24  Truck_8   59.8356  -114.4198              157   \n",
       "\n",
       "    Shipment_Status  Temperature  Humidity Traffic_Status  Waiting_Time  \\\n",
       "995       Delivered         26.9      70.0          Heavy            32   \n",
       "996       Delivered         23.7      77.9         Detour            56   \n",
       "997      In Transit         21.0      63.1         Detour            35   \n",
       "998       Delivered         18.0      64.3          Heavy            10   \n",
       "999         Delayed         18.7      73.6          Clear            55   \n",
       "\n",
       "     User_Transaction_Amount  User_Purchase_Frequency Logistics_Delay_Reason  \\\n",
       "995                      188                        1                Weather   \n",
       "996                      276                        7                Weather   \n",
       "997                      382                        5                    NaN   \n",
       "998                      361                        5                    NaN   \n",
       "999                      323                        9     Mechanical Failure   \n",
       "\n",
       "     Asset_Utilization  Demand_Forecast  Logistics_Delay  \n",
       "995               79.2              213                1  \n",
       "996               83.7              272                0  \n",
       "997               74.8              275                0  \n",
       "998               88.6              242                1  \n",
       "999               81.3              141                1  "
      ]
     },
     "execution_count": 4,
     "metadata": {},
     "output_type": "execute_result"
    }
   ],
   "source": [
    "df.tail()"
   ]
  },
  {
   "cell_type": "code",
   "execution_count": 5,
   "id": "c135c207",
   "metadata": {},
   "outputs": [
    {
     "name": "stdout",
     "output_type": "stream",
     "text": [
      "<class 'pandas.core.frame.DataFrame'>\n",
      "RangeIndex: 1000 entries, 0 to 999\n",
      "Data columns (total 16 columns):\n",
      " #   Column                   Non-Null Count  Dtype  \n",
      "---  ------                   --------------  -----  \n",
      " 0   Timestamp                1000 non-null   object \n",
      " 1   Asset_ID                 1000 non-null   object \n",
      " 2   Latitude                 1000 non-null   float64\n",
      " 3   Longitude                1000 non-null   float64\n",
      " 4   Inventory_Level          1000 non-null   int64  \n",
      " 5   Shipment_Status          1000 non-null   object \n",
      " 6   Temperature              1000 non-null   float64\n",
      " 7   Humidity                 1000 non-null   float64\n",
      " 8   Traffic_Status           1000 non-null   object \n",
      " 9   Waiting_Time             1000 non-null   int64  \n",
      " 10  User_Transaction_Amount  1000 non-null   int64  \n",
      " 11  User_Purchase_Frequency  1000 non-null   int64  \n",
      " 12  Logistics_Delay_Reason   737 non-null    object \n",
      " 13  Asset_Utilization        1000 non-null   float64\n",
      " 14  Demand_Forecast          1000 non-null   int64  \n",
      " 15  Logistics_Delay          1000 non-null   int64  \n",
      "dtypes: float64(5), int64(6), object(5)\n",
      "memory usage: 125.1+ KB\n"
     ]
    }
   ],
   "source": [
    "df.info()"
   ]
  },
  {
   "cell_type": "code",
   "execution_count": 6,
   "id": "6b95d4cd",
   "metadata": {},
   "outputs": [
    {
     "data": {
      "application/vnd.microsoft.datawrangler.viewer.v0+json": {
       "columns": [
        {
         "name": "index",
         "rawType": "object",
         "type": "unknown"
        },
        {
         "name": "count",
         "rawType": "int64",
         "type": "integer"
        }
       ],
       "ref": "ae078cfd-2465-4d01-a9b4-9e037e284631",
       "rows": [
        [
         "int64",
         "6"
        ],
        [
         "object",
         "5"
        ],
        [
         "float64",
         "5"
        ]
       ],
       "shape": {
        "columns": 1,
        "rows": 3
       }
      },
      "text/plain": [
       "int64      6\n",
       "object     5\n",
       "float64    5\n",
       "Name: count, dtype: int64"
      ]
     },
     "execution_count": 6,
     "metadata": {},
     "output_type": "execute_result"
    }
   ],
   "source": [
    "df.dtypes.value_counts()"
   ]
  },
  {
   "cell_type": "markdown",
   "id": "301e978a",
   "metadata": {},
   "source": [
    "there are 16 columns in the dataset, in that there are 6 int64 datatype, 5 object datatype and 5 float64 datatype. the column Logistic_Delay_Reason has some missing values. "
   ]
  },
  {
   "cell_type": "code",
   "execution_count": 7,
   "id": "7d4fe833",
   "metadata": {},
   "outputs": [
    {
     "data": {
      "text/plain": [
       "(1000, 16)"
      ]
     },
     "execution_count": 7,
     "metadata": {},
     "output_type": "execute_result"
    }
   ],
   "source": [
    "df.shape"
   ]
  },
  {
   "cell_type": "markdown",
   "id": "164b1254",
   "metadata": {},
   "source": [
    "the dataset has 100 rows and 16 columns"
   ]
  },
  {
   "cell_type": "code",
   "execution_count": 8,
   "id": "bd7d7d4c",
   "metadata": {},
   "outputs": [
    {
     "data": {
      "text/plain": [
       "Index(['Timestamp', 'Asset_ID', 'Latitude', 'Longitude', 'Inventory_Level',\n",
       "       'Shipment_Status', 'Temperature', 'Humidity', 'Traffic_Status',\n",
       "       'Waiting_Time', 'User_Transaction_Amount', 'User_Purchase_Frequency',\n",
       "       'Logistics_Delay_Reason', 'Asset_Utilization', 'Demand_Forecast',\n",
       "       'Logistics_Delay'],\n",
       "      dtype='object')"
      ]
     },
     "execution_count": 8,
     "metadata": {},
     "output_type": "execute_result"
    }
   ],
   "source": [
    "df.columns"
   ]
  },
  {
   "cell_type": "code",
   "execution_count": 9,
   "id": "27235154",
   "metadata": {},
   "outputs": [
    {
     "data": {
      "application/vnd.microsoft.datawrangler.viewer.v0+json": {
       "columns": [
        {
         "name": "index",
         "rawType": "object",
         "type": "string"
        },
        {
         "name": "Latitude",
         "rawType": "float64",
         "type": "float"
        },
        {
         "name": "Longitude",
         "rawType": "float64",
         "type": "float"
        },
        {
         "name": "Inventory_Level",
         "rawType": "float64",
         "type": "float"
        },
        {
         "name": "Temperature",
         "rawType": "float64",
         "type": "float"
        },
        {
         "name": "Humidity",
         "rawType": "float64",
         "type": "float"
        },
        {
         "name": "Waiting_Time",
         "rawType": "float64",
         "type": "float"
        },
        {
         "name": "User_Transaction_Amount",
         "rawType": "float64",
         "type": "float"
        },
        {
         "name": "User_Purchase_Frequency",
         "rawType": "float64",
         "type": "float"
        },
        {
         "name": "Asset_Utilization",
         "rawType": "float64",
         "type": "float"
        },
        {
         "name": "Demand_Forecast",
         "rawType": "float64",
         "type": "float"
        },
        {
         "name": "Logistics_Delay",
         "rawType": "float64",
         "type": "float"
        }
       ],
       "ref": "4efeb9a0-7b5e-4fc0-9ccf-c341f07a0db4",
       "rows": [
        [
         "count",
         "1000.0",
         "1000.0",
         "1000.0",
         "1000.0",
         "1000.0",
         "1000.0",
         "1000.0",
         "1000.0",
         "1000.0",
         "1000.0",
         "1000.0"
        ],
        [
         "mean",
         "-1.3600926",
         "0.8370489",
         "297.915",
         "23.8939",
         "65.0422",
         "35.062",
         "299.055",
         "5.513",
         "79.5991",
         "199.284",
         "0.566"
        ],
        [
         "std",
         "51.99718282407447",
         "104.84361812884038",
         "113.55477295764129",
         "3.322178450905318",
         "8.753765336560466",
         "14.477767844587154",
         "117.78779197751753",
         "2.935378586732459",
         "11.631152690206715",
         "59.92084655486646",
         "0.4958728565770563"
        ],
        [
         "min",
         "-89.7915",
         "-179.8202",
         "100.0",
         "18.0",
         "50.0",
         "10.0",
         "100.0",
         "1.0",
         "60.0",
         "100.0",
         "0.0"
        ],
        [
         "25%",
         "-46.167975",
         "-88.448075",
         "201.0",
         "21.2",
         "57.2",
         "23.0",
         "191.75",
         "3.0",
         "69.475",
         "144.0",
         "0.0"
        ],
        [
         "50%",
         "-4.50315",
         "0.6783",
         "299.0",
         "23.8",
         "65.2",
         "35.0",
         "301.5",
         "6.0",
         "79.25",
         "202.0",
         "1.0"
        ],
        [
         "75%",
         "44.5028",
         "88.15644999999999",
         "399.0",
         "26.6",
         "72.4",
         "49.0",
         "405.0",
         "8.0",
         "89.42500000000001",
         "251.25",
         "1.0"
        ],
        [
         "max",
         "89.8701",
         "179.9237",
         "500.0",
         "30.0",
         "80.0",
         "60.0",
         "500.0",
         "10.0",
         "100.0",
         "300.0",
         "1.0"
        ]
       ],
       "shape": {
        "columns": 11,
        "rows": 8
       }
      },
      "text/html": [
       "<div>\n",
       "<style scoped>\n",
       "    .dataframe tbody tr th:only-of-type {\n",
       "        vertical-align: middle;\n",
       "    }\n",
       "\n",
       "    .dataframe tbody tr th {\n",
       "        vertical-align: top;\n",
       "    }\n",
       "\n",
       "    .dataframe thead th {\n",
       "        text-align: right;\n",
       "    }\n",
       "</style>\n",
       "<table border=\"1\" class=\"dataframe\">\n",
       "  <thead>\n",
       "    <tr style=\"text-align: right;\">\n",
       "      <th></th>\n",
       "      <th>Latitude</th>\n",
       "      <th>Longitude</th>\n",
       "      <th>Inventory_Level</th>\n",
       "      <th>Temperature</th>\n",
       "      <th>Humidity</th>\n",
       "      <th>Waiting_Time</th>\n",
       "      <th>User_Transaction_Amount</th>\n",
       "      <th>User_Purchase_Frequency</th>\n",
       "      <th>Asset_Utilization</th>\n",
       "      <th>Demand_Forecast</th>\n",
       "      <th>Logistics_Delay</th>\n",
       "    </tr>\n",
       "  </thead>\n",
       "  <tbody>\n",
       "    <tr>\n",
       "      <th>count</th>\n",
       "      <td>1000.000000</td>\n",
       "      <td>1000.000000</td>\n",
       "      <td>1000.000000</td>\n",
       "      <td>1000.000000</td>\n",
       "      <td>1000.000000</td>\n",
       "      <td>1000.000000</td>\n",
       "      <td>1000.000000</td>\n",
       "      <td>1000.000000</td>\n",
       "      <td>1000.000000</td>\n",
       "      <td>1000.000000</td>\n",
       "      <td>1000.000000</td>\n",
       "    </tr>\n",
       "    <tr>\n",
       "      <th>mean</th>\n",
       "      <td>-1.360093</td>\n",
       "      <td>0.837049</td>\n",
       "      <td>297.915000</td>\n",
       "      <td>23.893900</td>\n",
       "      <td>65.042200</td>\n",
       "      <td>35.062000</td>\n",
       "      <td>299.055000</td>\n",
       "      <td>5.513000</td>\n",
       "      <td>79.599100</td>\n",
       "      <td>199.284000</td>\n",
       "      <td>0.566000</td>\n",
       "    </tr>\n",
       "    <tr>\n",
       "      <th>std</th>\n",
       "      <td>51.997183</td>\n",
       "      <td>104.843618</td>\n",
       "      <td>113.554773</td>\n",
       "      <td>3.322178</td>\n",
       "      <td>8.753765</td>\n",
       "      <td>14.477768</td>\n",
       "      <td>117.787792</td>\n",
       "      <td>2.935379</td>\n",
       "      <td>11.631153</td>\n",
       "      <td>59.920847</td>\n",
       "      <td>0.495873</td>\n",
       "    </tr>\n",
       "    <tr>\n",
       "      <th>min</th>\n",
       "      <td>-89.791500</td>\n",
       "      <td>-179.820200</td>\n",
       "      <td>100.000000</td>\n",
       "      <td>18.000000</td>\n",
       "      <td>50.000000</td>\n",
       "      <td>10.000000</td>\n",
       "      <td>100.000000</td>\n",
       "      <td>1.000000</td>\n",
       "      <td>60.000000</td>\n",
       "      <td>100.000000</td>\n",
       "      <td>0.000000</td>\n",
       "    </tr>\n",
       "    <tr>\n",
       "      <th>25%</th>\n",
       "      <td>-46.167975</td>\n",
       "      <td>-88.448075</td>\n",
       "      <td>201.000000</td>\n",
       "      <td>21.200000</td>\n",
       "      <td>57.200000</td>\n",
       "      <td>23.000000</td>\n",
       "      <td>191.750000</td>\n",
       "      <td>3.000000</td>\n",
       "      <td>69.475000</td>\n",
       "      <td>144.000000</td>\n",
       "      <td>0.000000</td>\n",
       "    </tr>\n",
       "    <tr>\n",
       "      <th>50%</th>\n",
       "      <td>-4.503150</td>\n",
       "      <td>0.678300</td>\n",
       "      <td>299.000000</td>\n",
       "      <td>23.800000</td>\n",
       "      <td>65.200000</td>\n",
       "      <td>35.000000</td>\n",
       "      <td>301.500000</td>\n",
       "      <td>6.000000</td>\n",
       "      <td>79.250000</td>\n",
       "      <td>202.000000</td>\n",
       "      <td>1.000000</td>\n",
       "    </tr>\n",
       "    <tr>\n",
       "      <th>75%</th>\n",
       "      <td>44.502800</td>\n",
       "      <td>88.156450</td>\n",
       "      <td>399.000000</td>\n",
       "      <td>26.600000</td>\n",
       "      <td>72.400000</td>\n",
       "      <td>49.000000</td>\n",
       "      <td>405.000000</td>\n",
       "      <td>8.000000</td>\n",
       "      <td>89.425000</td>\n",
       "      <td>251.250000</td>\n",
       "      <td>1.000000</td>\n",
       "    </tr>\n",
       "    <tr>\n",
       "      <th>max</th>\n",
       "      <td>89.870100</td>\n",
       "      <td>179.923700</td>\n",
       "      <td>500.000000</td>\n",
       "      <td>30.000000</td>\n",
       "      <td>80.000000</td>\n",
       "      <td>60.000000</td>\n",
       "      <td>500.000000</td>\n",
       "      <td>10.000000</td>\n",
       "      <td>100.000000</td>\n",
       "      <td>300.000000</td>\n",
       "      <td>1.000000</td>\n",
       "    </tr>\n",
       "  </tbody>\n",
       "</table>\n",
       "</div>"
      ],
      "text/plain": [
       "          Latitude    Longitude  Inventory_Level  Temperature     Humidity  \\\n",
       "count  1000.000000  1000.000000      1000.000000  1000.000000  1000.000000   \n",
       "mean     -1.360093     0.837049       297.915000    23.893900    65.042200   \n",
       "std      51.997183   104.843618       113.554773     3.322178     8.753765   \n",
       "min     -89.791500  -179.820200       100.000000    18.000000    50.000000   \n",
       "25%     -46.167975   -88.448075       201.000000    21.200000    57.200000   \n",
       "50%      -4.503150     0.678300       299.000000    23.800000    65.200000   \n",
       "75%      44.502800    88.156450       399.000000    26.600000    72.400000   \n",
       "max      89.870100   179.923700       500.000000    30.000000    80.000000   \n",
       "\n",
       "       Waiting_Time  User_Transaction_Amount  User_Purchase_Frequency  \\\n",
       "count   1000.000000              1000.000000              1000.000000   \n",
       "mean      35.062000               299.055000                 5.513000   \n",
       "std       14.477768               117.787792                 2.935379   \n",
       "min       10.000000               100.000000                 1.000000   \n",
       "25%       23.000000               191.750000                 3.000000   \n",
       "50%       35.000000               301.500000                 6.000000   \n",
       "75%       49.000000               405.000000                 8.000000   \n",
       "max       60.000000               500.000000                10.000000   \n",
       "\n",
       "       Asset_Utilization  Demand_Forecast  Logistics_Delay  \n",
       "count        1000.000000      1000.000000      1000.000000  \n",
       "mean           79.599100       199.284000         0.566000  \n",
       "std            11.631153        59.920847         0.495873  \n",
       "min            60.000000       100.000000         0.000000  \n",
       "25%            69.475000       144.000000         0.000000  \n",
       "50%            79.250000       202.000000         1.000000  \n",
       "75%            89.425000       251.250000         1.000000  \n",
       "max           100.000000       300.000000         1.000000  "
      ]
     },
     "execution_count": 9,
     "metadata": {},
     "output_type": "execute_result"
    }
   ],
   "source": [
    "df.describe()"
   ]
  },
  {
   "cell_type": "code",
   "execution_count": 10,
   "id": "7c6dfb02",
   "metadata": {},
   "outputs": [
    {
     "data": {
      "application/vnd.microsoft.datawrangler.viewer.v0+json": {
       "columns": [
        {
         "name": "index",
         "rawType": "object",
         "type": "string"
        },
        {
         "name": "0",
         "rawType": "int64",
         "type": "integer"
        }
       ],
       "ref": "a1c1fc45-ae79-492b-9a76-ff5e70566e9e",
       "rows": [
        [
         "Timestamp",
         "0"
        ],
        [
         "Asset_ID",
         "0"
        ],
        [
         "Latitude",
         "0"
        ],
        [
         "Longitude",
         "0"
        ],
        [
         "Inventory_Level",
         "0"
        ],
        [
         "Shipment_Status",
         "0"
        ],
        [
         "Temperature",
         "0"
        ],
        [
         "Humidity",
         "0"
        ],
        [
         "Traffic_Status",
         "0"
        ],
        [
         "Waiting_Time",
         "0"
        ],
        [
         "User_Transaction_Amount",
         "0"
        ],
        [
         "User_Purchase_Frequency",
         "0"
        ],
        [
         "Logistics_Delay_Reason",
         "263"
        ],
        [
         "Asset_Utilization",
         "0"
        ],
        [
         "Demand_Forecast",
         "0"
        ],
        [
         "Logistics_Delay",
         "0"
        ]
       ],
       "shape": {
        "columns": 1,
        "rows": 16
       }
      },
      "text/plain": [
       "Timestamp                    0\n",
       "Asset_ID                     0\n",
       "Latitude                     0\n",
       "Longitude                    0\n",
       "Inventory_Level              0\n",
       "Shipment_Status              0\n",
       "Temperature                  0\n",
       "Humidity                     0\n",
       "Traffic_Status               0\n",
       "Waiting_Time                 0\n",
       "User_Transaction_Amount      0\n",
       "User_Purchase_Frequency      0\n",
       "Logistics_Delay_Reason     263\n",
       "Asset_Utilization            0\n",
       "Demand_Forecast              0\n",
       "Logistics_Delay              0\n",
       "dtype: int64"
      ]
     },
     "execution_count": 10,
     "metadata": {},
     "output_type": "execute_result"
    }
   ],
   "source": [
    "df.isnull().sum()"
   ]
  },
  {
   "cell_type": "code",
   "execution_count": 11,
   "id": "acd1304c",
   "metadata": {},
   "outputs": [
    {
     "data": {
      "text/plain": [
       "np.int64(263)"
      ]
     },
     "execution_count": 11,
     "metadata": {},
     "output_type": "execute_result"
    }
   ],
   "source": [
    "df.isnull().sum().sum()"
   ]
  },
  {
   "cell_type": "markdown",
   "id": "d589f52d",
   "metadata": {},
   "source": [
    "so there is a total of 263 missing values in the 'Logistic_Delay_Reason' coloumn."
   ]
  },
  {
   "cell_type": "code",
   "execution_count": 12,
   "id": "56fdf86e",
   "metadata": {},
   "outputs": [
    {
     "data": {
      "text/plain": [
       "np.int64(0)"
      ]
     },
     "execution_count": 12,
     "metadata": {},
     "output_type": "execute_result"
    }
   ],
   "source": [
    "df.duplicated().sum()"
   ]
  },
  {
   "cell_type": "markdown",
   "id": "efc0c921",
   "metadata": {},
   "source": [
    "there are no duplicate values in the dataset."
   ]
  },
  {
   "cell_type": "code",
   "execution_count": 13,
   "id": "21deb816",
   "metadata": {},
   "outputs": [
    {
     "data": {
      "application/vnd.microsoft.datawrangler.viewer.v0+json": {
       "columns": [
        {
         "name": "Asset_ID",
         "rawType": "object",
         "type": "string"
        },
        {
         "name": "count",
         "rawType": "int64",
         "type": "integer"
        }
       ],
       "ref": "0cf52c7b-ca9f-4a55-a001-a685caca81b9",
       "rows": [
        [
         "Truck_8",
         "109"
        ],
        [
         "Truck_4",
         "107"
        ],
        [
         "Truck_2",
         "105"
        ],
        [
         "Truck_10",
         "105"
        ],
        [
         "Truck_6",
         "103"
        ],
        [
         "Truck_7",
         "102"
        ],
        [
         "Truck_9",
         "94"
        ],
        [
         "Truck_3",
         "93"
        ],
        [
         "Truck_5",
         "93"
        ],
        [
         "Truck_1",
         "89"
        ]
       ],
       "shape": {
        "columns": 1,
        "rows": 10
       }
      },
      "text/plain": [
       "Asset_ID\n",
       "Truck_8     109\n",
       "Truck_4     107\n",
       "Truck_2     105\n",
       "Truck_10    105\n",
       "Truck_6     103\n",
       "Truck_7     102\n",
       "Truck_9      94\n",
       "Truck_3      93\n",
       "Truck_5      93\n",
       "Truck_1      89\n",
       "Name: count, dtype: int64"
      ]
     },
     "execution_count": 13,
     "metadata": {},
     "output_type": "execute_result"
    }
   ],
   "source": [
    "df['Asset_ID'].value_counts()"
   ]
  },
  {
   "cell_type": "code",
   "execution_count": 14,
   "id": "463d4be1",
   "metadata": {},
   "outputs": [
    {
     "data": {
      "text/plain": [
       "10"
      ]
     },
     "execution_count": 14,
     "metadata": {},
     "output_type": "execute_result"
    }
   ],
   "source": [
    "df['Asset_ID'].nunique()"
   ]
  },
  {
   "cell_type": "code",
   "execution_count": 15,
   "id": "054598b6",
   "metadata": {},
   "outputs": [
    {
     "data": {
      "application/vnd.microsoft.datawrangler.viewer.v0+json": {
       "columns": [
        {
         "name": "Logistics_Delay_Reason",
         "rawType": "object",
         "type": "string"
        },
        {
         "name": "count",
         "rawType": "int64",
         "type": "integer"
        }
       ],
       "ref": "d91ef404-8093-4034-a2b1-d8f375db3f59",
       "rows": [
        [
         "Weather",
         "267"
        ],
        [
         "Traffic",
         "236"
        ],
        [
         "Mechanical Failure",
         "234"
        ]
       ],
       "shape": {
        "columns": 1,
        "rows": 3
       }
      },
      "text/plain": [
       "Logistics_Delay_Reason\n",
       "Weather               267\n",
       "Traffic               236\n",
       "Mechanical Failure    234\n",
       "Name: count, dtype: int64"
      ]
     },
     "execution_count": 15,
     "metadata": {},
     "output_type": "execute_result"
    }
   ],
   "source": [
    "df['Logistics_Delay_Reason'].value_counts()"
   ]
  },
  {
   "cell_type": "code",
   "execution_count": 16,
   "id": "dbfc76a8",
   "metadata": {},
   "outputs": [
    {
     "data": {
      "text/plain": [
       "array(['Detour', 'Heavy', 'Detour', 'Heavy', 'Clear', 'Clear', 'Clear',\n",
       "       'Detour', 'Clear', 'Clear', 'Clear', 'Detour', 'Detour', 'Detour',\n",
       "       'Heavy', 'Clear', 'Clear', 'Detour', 'Detour', 'Clear', 'Detour',\n",
       "       'Heavy', 'Detour', 'Clear', 'Detour', 'Detour', 'Heavy', 'Heavy',\n",
       "       'Heavy', 'Heavy', 'Clear', 'Heavy', 'Detour', 'Heavy', 'Detour',\n",
       "       'Detour', 'Heavy', 'Heavy', 'Detour', 'Clear', 'Clear', 'Detour',\n",
       "       'Clear', 'Clear', 'Clear', 'Heavy', 'Clear', 'Heavy', 'Clear',\n",
       "       'Heavy', 'Heavy', 'Heavy', 'Clear', 'Heavy', 'Clear', 'Detour',\n",
       "       'Detour', 'Heavy', 'Clear', 'Clear', 'Heavy', 'Heavy', 'Detour',\n",
       "       'Heavy', 'Detour', 'Detour', 'Clear', 'Heavy', 'Detour', 'Heavy',\n",
       "       'Clear', 'Detour', 'Detour', 'Clear', 'Heavy', 'Clear', 'Clear',\n",
       "       'Clear', 'Heavy', 'Clear', 'Clear', 'Clear', 'Detour', 'Heavy',\n",
       "       'Clear', 'Heavy', 'Heavy', 'Clear', 'Clear', 'Detour', 'Clear',\n",
       "       'Heavy', 'Heavy', 'Clear', 'Heavy', 'Detour', 'Detour', 'Heavy',\n",
       "       'Detour', 'Detour', 'Clear', 'Clear', 'Detour', 'Heavy', 'Heavy',\n",
       "       'Clear', 'Detour', 'Heavy', 'Clear', 'Detour', 'Clear', 'Clear',\n",
       "       'Detour', 'Detour', 'Clear', 'Clear', 'Heavy', 'Detour', 'Detour',\n",
       "       'Clear', 'Detour', 'Clear', 'Detour', 'Detour', 'Detour', 'Heavy',\n",
       "       'Heavy', 'Heavy', 'Heavy', 'Detour', 'Heavy', 'Clear', 'Heavy',\n",
       "       'Clear', 'Heavy', 'Heavy', 'Heavy', 'Heavy', 'Detour', 'Heavy',\n",
       "       'Detour', 'Detour', 'Clear', 'Clear', 'Detour', 'Heavy', 'Clear',\n",
       "       'Detour', 'Heavy', 'Clear', 'Clear', 'Detour', 'Heavy', 'Heavy',\n",
       "       'Detour', 'Detour', 'Detour', 'Clear', 'Clear', 'Detour', 'Heavy',\n",
       "       'Detour', 'Detour', 'Detour', 'Heavy', 'Detour', 'Detour',\n",
       "       'Detour', 'Heavy', 'Detour', 'Clear', 'Clear', 'Heavy', 'Detour',\n",
       "       'Clear', 'Clear', 'Heavy', 'Heavy', 'Clear', 'Heavy', 'Clear',\n",
       "       'Heavy', 'Detour', 'Clear', 'Clear', 'Clear', 'Clear', 'Heavy',\n",
       "       'Clear', 'Detour', 'Heavy', 'Detour', 'Clear', 'Clear', 'Detour',\n",
       "       'Clear', 'Clear', 'Clear', 'Clear', 'Heavy', 'Heavy', 'Heavy',\n",
       "       'Heavy', 'Clear', 'Clear', 'Detour', 'Clear', 'Heavy', 'Clear',\n",
       "       'Detour', 'Clear', 'Detour', 'Clear', 'Detour', 'Detour', 'Clear',\n",
       "       'Heavy', 'Clear', 'Clear', 'Heavy', 'Heavy', 'Clear', 'Heavy',\n",
       "       'Heavy', 'Heavy', 'Detour', 'Heavy', 'Heavy', 'Heavy', 'Clear',\n",
       "       'Clear', 'Clear', 'Detour', 'Detour', 'Detour', 'Detour', 'Detour',\n",
       "       'Clear', 'Detour', 'Detour', 'Clear', 'Detour', 'Detour', 'Heavy',\n",
       "       'Detour', 'Heavy', 'Heavy', 'Clear', 'Detour', 'Heavy', 'Heavy',\n",
       "       'Clear', 'Detour', 'Heavy', 'Heavy', 'Detour', 'Clear', 'Detour',\n",
       "       'Detour', 'Detour', 'Heavy', 'Heavy', 'Clear', 'Detour', 'Heavy',\n",
       "       'Detour', 'Clear', 'Clear', 'Detour', 'Heavy', 'Clear', 'Clear',\n",
       "       'Clear', 'Heavy', 'Heavy', 'Heavy', 'Heavy', 'Detour', 'Heavy',\n",
       "       'Detour', 'Clear', 'Heavy', 'Heavy', 'Clear', 'Detour', 'Clear',\n",
       "       'Detour', 'Heavy', 'Heavy', 'Clear', 'Heavy', 'Detour', 'Clear',\n",
       "       'Clear', 'Detour', 'Detour', 'Detour', 'Detour', 'Detour', 'Heavy',\n",
       "       'Clear', 'Clear', 'Detour', 'Heavy', 'Clear', 'Heavy', 'Heavy',\n",
       "       'Clear', 'Clear', 'Heavy', 'Detour', 'Detour', 'Detour', 'Detour',\n",
       "       'Detour', 'Detour', 'Detour', 'Heavy', 'Detour', 'Heavy', 'Detour',\n",
       "       'Clear', 'Detour', 'Detour', 'Clear', 'Clear', 'Heavy', 'Detour',\n",
       "       'Detour', 'Detour', 'Heavy', 'Clear', 'Detour', 'Heavy', 'Detour',\n",
       "       'Detour', 'Detour', 'Detour', 'Detour', 'Heavy', 'Heavy', 'Clear',\n",
       "       'Clear', 'Detour', 'Clear', 'Detour', 'Clear', 'Detour', 'Heavy',\n",
       "       'Clear', 'Clear', 'Heavy', 'Detour', 'Detour', 'Clear', 'Clear',\n",
       "       'Detour', 'Clear', 'Clear', 'Heavy', 'Heavy', 'Clear', 'Heavy',\n",
       "       'Heavy', 'Detour', 'Clear', 'Heavy', 'Clear', 'Clear', 'Clear',\n",
       "       'Heavy', 'Clear', 'Detour', 'Clear', 'Detour', 'Clear', 'Heavy',\n",
       "       'Clear', 'Clear', 'Detour', 'Detour', 'Clear', 'Heavy', 'Clear',\n",
       "       'Heavy', 'Heavy', 'Clear', 'Clear', 'Clear', 'Clear', 'Clear',\n",
       "       'Heavy', 'Detour', 'Clear', 'Heavy', 'Clear', 'Heavy', 'Detour',\n",
       "       'Clear', 'Heavy', 'Detour', 'Clear', 'Detour', 'Heavy', 'Detour',\n",
       "       'Detour', 'Detour', 'Heavy', 'Clear', 'Heavy', 'Detour', 'Clear',\n",
       "       'Detour', 'Detour', 'Clear', 'Heavy', 'Clear', 'Heavy', 'Heavy',\n",
       "       'Detour', 'Heavy', 'Clear', 'Clear', 'Heavy', 'Clear', 'Detour',\n",
       "       'Detour', 'Heavy', 'Detour', 'Clear', 'Detour', 'Detour', 'Detour',\n",
       "       'Detour', 'Detour', 'Heavy', 'Heavy', 'Heavy', 'Clear', 'Heavy',\n",
       "       'Detour', 'Detour', 'Detour', 'Detour', 'Detour', 'Detour',\n",
       "       'Detour', 'Detour', 'Clear', 'Heavy', 'Heavy', 'Detour', 'Heavy',\n",
       "       'Detour', 'Detour', 'Heavy', 'Detour', 'Detour', 'Heavy', 'Detour',\n",
       "       'Detour', 'Detour', 'Clear', 'Clear', 'Detour', 'Clear', 'Clear',\n",
       "       'Clear', 'Detour', 'Heavy', 'Detour', 'Heavy', 'Detour', 'Heavy',\n",
       "       'Clear', 'Detour', 'Heavy', 'Heavy', 'Clear', 'Heavy', 'Heavy',\n",
       "       'Heavy', 'Heavy', 'Detour', 'Detour', 'Heavy', 'Detour', 'Clear',\n",
       "       'Clear', 'Clear', 'Clear', 'Clear', 'Heavy', 'Detour', 'Heavy',\n",
       "       'Heavy', 'Clear', 'Clear', 'Clear', 'Clear', 'Clear', 'Detour',\n",
       "       'Clear', 'Detour', 'Heavy', 'Clear', 'Clear', 'Detour', 'Clear',\n",
       "       'Heavy', 'Detour', 'Clear', 'Detour', 'Clear', 'Heavy', 'Heavy',\n",
       "       'Detour', 'Heavy', 'Detour', 'Clear', 'Heavy', 'Heavy', 'Heavy',\n",
       "       'Detour', 'Clear', 'Heavy', 'Heavy', 'Detour', 'Detour', 'Heavy',\n",
       "       'Detour', 'Clear', 'Detour', 'Heavy', 'Detour', 'Heavy', 'Detour',\n",
       "       'Clear', 'Heavy', 'Heavy', 'Heavy', 'Heavy', 'Heavy', 'Detour',\n",
       "       'Heavy', 'Heavy', 'Clear', 'Heavy', 'Detour', 'Detour', 'Clear',\n",
       "       'Heavy', 'Clear', 'Clear', 'Heavy', 'Detour', 'Clear', 'Detour',\n",
       "       'Detour', 'Detour', 'Clear', 'Clear', 'Detour', 'Clear', 'Clear',\n",
       "       'Heavy', 'Heavy', 'Clear', 'Detour', 'Detour', 'Heavy', 'Clear',\n",
       "       'Detour', 'Detour', 'Clear', 'Detour', 'Detour', 'Detour', 'Clear',\n",
       "       'Heavy', 'Detour', 'Detour', 'Clear', 'Detour', 'Heavy', 'Clear',\n",
       "       'Detour', 'Heavy', 'Clear', 'Detour', 'Clear', 'Clear', 'Detour',\n",
       "       'Heavy', 'Detour', 'Detour', 'Detour', 'Heavy', 'Heavy', 'Clear',\n",
       "       'Clear', 'Clear', 'Detour', 'Heavy', 'Detour', 'Heavy', 'Detour',\n",
       "       'Heavy', 'Clear', 'Heavy', 'Heavy', 'Detour', 'Clear', 'Clear',\n",
       "       'Clear', 'Heavy', 'Detour', 'Detour', 'Clear', 'Clear', 'Heavy',\n",
       "       'Detour', 'Detour', 'Heavy', 'Clear', 'Detour', 'Heavy', 'Clear',\n",
       "       'Detour', 'Heavy', 'Clear', 'Heavy', 'Heavy', 'Clear', 'Heavy',\n",
       "       'Heavy', 'Clear', 'Heavy', 'Heavy', 'Heavy', 'Clear', 'Heavy',\n",
       "       'Heavy', 'Clear', 'Heavy', 'Clear', 'Detour', 'Detour', 'Clear',\n",
       "       'Heavy', 'Heavy', 'Clear', 'Heavy', 'Clear', 'Detour', 'Heavy',\n",
       "       'Clear', 'Detour', 'Detour', 'Detour', 'Clear', 'Clear', 'Clear',\n",
       "       'Heavy', 'Heavy', 'Detour', 'Heavy', 'Heavy', 'Detour', 'Clear',\n",
       "       'Detour', 'Clear', 'Heavy', 'Heavy', 'Heavy', 'Heavy', 'Clear',\n",
       "       'Detour', 'Clear', 'Clear', 'Clear', 'Clear', 'Detour', 'Heavy',\n",
       "       'Clear', 'Detour', 'Clear', 'Heavy', 'Clear', 'Clear', 'Clear',\n",
       "       'Detour', 'Clear', 'Detour', 'Heavy', 'Heavy', 'Detour', 'Detour',\n",
       "       'Clear', 'Heavy', 'Heavy', 'Heavy', 'Clear', 'Detour', 'Clear',\n",
       "       'Heavy', 'Heavy', 'Clear', 'Clear', 'Heavy', 'Heavy', 'Detour',\n",
       "       'Clear', 'Clear', 'Heavy', 'Detour', 'Heavy', 'Heavy', 'Clear',\n",
       "       'Clear', 'Detour', 'Detour', 'Detour', 'Heavy', 'Detour', 'Clear',\n",
       "       'Heavy', 'Detour', 'Heavy', 'Clear', 'Clear', 'Detour', 'Clear',\n",
       "       'Clear', 'Detour', 'Detour', 'Clear', 'Heavy', 'Heavy', 'Clear',\n",
       "       'Clear', 'Detour', 'Detour', 'Heavy', 'Heavy', 'Heavy', 'Heavy',\n",
       "       'Heavy', 'Clear', 'Clear', 'Clear', 'Clear', 'Heavy', 'Heavy',\n",
       "       'Clear', 'Detour', 'Detour', 'Detour', 'Heavy', 'Heavy', 'Heavy',\n",
       "       'Detour', 'Detour', 'Heavy', 'Heavy', 'Clear', 'Heavy', 'Clear',\n",
       "       'Clear', 'Heavy', 'Detour', 'Heavy', 'Detour', 'Heavy', 'Detour',\n",
       "       'Detour', 'Heavy', 'Detour', 'Detour', 'Clear', 'Heavy', 'Clear',\n",
       "       'Detour', 'Detour', 'Clear', 'Clear', 'Clear', 'Detour', 'Heavy',\n",
       "       'Heavy', 'Detour', 'Clear', 'Clear', 'Heavy', 'Clear', 'Detour',\n",
       "       'Clear', 'Heavy', 'Detour', 'Heavy', 'Heavy', 'Detour', 'Heavy',\n",
       "       'Heavy', 'Detour', 'Clear', 'Detour', 'Heavy', 'Heavy', 'Clear',\n",
       "       'Detour', 'Clear', 'Clear', 'Detour', 'Heavy', 'Heavy', 'Detour',\n",
       "       'Detour', 'Clear', 'Clear', 'Heavy', 'Detour', 'Heavy', 'Detour',\n",
       "       'Detour', 'Heavy', 'Detour', 'Heavy', 'Detour', 'Clear', 'Heavy',\n",
       "       'Heavy', 'Detour', 'Detour', 'Heavy', 'Detour', 'Heavy', 'Heavy',\n",
       "       'Heavy', 'Detour', 'Heavy', 'Detour', 'Clear', 'Detour', 'Heavy',\n",
       "       'Heavy', 'Detour', 'Clear', 'Detour', 'Detour', 'Heavy', 'Detour',\n",
       "       'Clear', 'Clear', 'Heavy', 'Detour', 'Clear', 'Heavy', 'Clear',\n",
       "       'Heavy', 'Detour', 'Detour', 'Detour', 'Clear', 'Detour', 'Clear',\n",
       "       'Clear', 'Detour', 'Detour', 'Heavy', 'Detour', 'Clear', 'Detour',\n",
       "       'Detour', 'Clear', 'Detour', 'Heavy', 'Clear', 'Detour', 'Clear',\n",
       "       'Heavy', 'Heavy', 'Clear', 'Clear', 'Heavy', 'Detour', 'Clear',\n",
       "       'Detour', 'Heavy', 'Clear', 'Detour', 'Heavy', 'Clear', 'Detour',\n",
       "       'Heavy', 'Detour', 'Detour', 'Clear', 'Detour', 'Detour', 'Clear',\n",
       "       'Clear', 'Detour', 'Detour', 'Detour', 'Detour', 'Detour', 'Clear',\n",
       "       'Detour', 'Detour', 'Heavy', 'Heavy', 'Detour', 'Heavy', 'Detour',\n",
       "       'Heavy', 'Detour', 'Detour', 'Heavy', 'Clear', 'Detour', 'Detour',\n",
       "       'Clear', 'Clear', 'Detour', 'Clear', 'Heavy', 'Clear', 'Clear',\n",
       "       'Heavy', 'Detour', 'Heavy', 'Clear', 'Clear', 'Clear', 'Clear',\n",
       "       'Clear', 'Heavy', 'Heavy', 'Heavy', 'Detour', 'Clear', 'Detour',\n",
       "       'Detour', 'Clear', 'Heavy', 'Detour', 'Clear', 'Detour', 'Clear',\n",
       "       'Detour', 'Clear', 'Detour', 'Clear', 'Detour', 'Clear', 'Detour',\n",
       "       'Detour', 'Clear', 'Detour', 'Clear', 'Detour', 'Heavy', 'Heavy',\n",
       "       'Clear', 'Heavy', 'Heavy', 'Detour', 'Clear', 'Clear', 'Clear',\n",
       "       'Clear', 'Heavy', 'Heavy', 'Heavy', 'Clear', 'Heavy', 'Clear',\n",
       "       'Heavy', 'Heavy', 'Detour', 'Heavy', 'Heavy', 'Heavy', 'Detour',\n",
       "       'Heavy', 'Clear', 'Heavy', 'Heavy', 'Clear', 'Heavy', 'Heavy',\n",
       "       'Heavy', 'Clear', 'Detour', 'Heavy', 'Detour', 'Detour', 'Heavy',\n",
       "       'Clear'], dtype=object)"
      ]
     },
     "execution_count": 16,
     "metadata": {},
     "output_type": "execute_result"
    }
   ],
   "source": [
    "df['Traffic_Status'].values"
   ]
  },
  {
   "cell_type": "code",
   "execution_count": 19,
   "id": "9b085430",
   "metadata": {},
   "outputs": [
    {
     "data": {
      "application/vnd.microsoft.datawrangler.viewer.v0+json": {
       "columns": [
        {
         "name": "Logistics_Delay_Reason",
         "rawType": "object",
         "type": "string"
        },
        {
         "name": "count",
         "rawType": "int64",
         "type": "integer"
        }
       ],
       "ref": "16243068-e1a4-4c2e-b2f3-f8e9839b3c3d",
       "rows": [
        [
         "Weather",
         "267"
        ],
        [
         "Traffic",
         "236"
        ],
        [
         "Mechanical Failure",
         "234"
        ]
       ],
       "shape": {
        "columns": 1,
        "rows": 3
       }
      },
      "text/plain": [
       "Logistics_Delay_Reason\n",
       "Weather               267\n",
       "Traffic               236\n",
       "Mechanical Failure    234\n",
       "Name: count, dtype: int64"
      ]
     },
     "execution_count": 19,
     "metadata": {},
     "output_type": "execute_result"
    }
   ],
   "source": [
    "df['Logistics_Delay_Reason'].value_counts()"
   ]
  },
  {
   "cell_type": "code",
   "execution_count": null,
   "id": "467eeda8",
   "metadata": {},
   "outputs": [],
   "source": []
  }
 ],
 "metadata": {
  "kernelspec": {
   "display_name": ".venv",
   "language": "python",
   "name": "python3"
  },
  "language_info": {
   "codemirror_mode": {
    "name": "ipython",
    "version": 3
   },
   "file_extension": ".py",
   "mimetype": "text/x-python",
   "name": "python",
   "nbconvert_exporter": "python",
   "pygments_lexer": "ipython3",
   "version": "3.12.5"
  }
 },
 "nbformat": 4,
 "nbformat_minor": 5
}
